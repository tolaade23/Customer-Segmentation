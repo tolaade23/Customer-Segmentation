{
 "cells": [
  {
   "cell_type": "markdown",
   "id": "6bece414",
   "metadata": {},
   "source": [
    "# Customer Demographic Data Cleaning and Analysis"
   ]
  },
  {
   "cell_type": "markdown",
   "id": "5a323159",
   "metadata": {},
   "source": [
    "# 1.0 Import Libraries\n",
    "■ Pandas for data manipulation\n",
    "\n",
    "■ NumPy for numerical operations\n",
    "\n",
    "■ datetime for date-related operations"
   ]
  },
  {
   "cell_type": "code",
   "execution_count": 1,
   "id": "0cabf601",
   "metadata": {},
   "outputs": [],
   "source": [
    "import pandas as pd\n",
    "import numpy as np\n",
    "from datetime import datetime, date"
   ]
  },
  {
   "cell_type": "markdown",
   "id": "5404014b",
   "metadata": {},
   "source": [
    "# 2.0 Load Data\n",
    "\n",
    "Loads customer demographic data from the Excel file 'Raw_data.xlsx', sheet 'CustomerDemographic'"
   ]
  },
  {
   "cell_type": "code",
   "execution_count": 2,
   "id": "22dfacf3",
   "metadata": {},
   "outputs": [],
   "source": [
    "def load_data(file_path, sheet_name):\n",
    "    \"\"\"Load Customer Demographics Data from the Excel file.\"\"\"\n",
    "    return pd.read_excel(file_path, sheet_name=sheet_name)"
   ]
  },
  {
   "cell_type": "code",
   "execution_count": 3,
   "id": "af790693",
   "metadata": {},
   "outputs": [],
   "source": [
    "file_path = 'Raw_data.xlsx'\n",
    "sheet_name = 'CustomerDemographic'\n",
    "customer_data = load_data(file_path, sheet_name)"
   ]
  },
  {
   "cell_type": "markdown",
   "id": "95f4e949",
   "metadata": {},
   "source": [
    "# 3.0 Initial Data Exploration\n",
    "\n",
    "Displays basic information about the dataset, including:\n",
    "\n",
    "■ Number of rows\n",
    "\n",
    "■  Column names and data types\n",
    "\n",
    "■  Number of missing values in each column\n",
    "\n",
    "■  Summary statistics for numerical columns"
   ]
  },
  {
   "cell_type": "code",
   "execution_count": 4,
   "id": "3e9ad9b6",
   "metadata": {},
   "outputs": [],
   "source": [
    "def display_basic_info(dataframe):\n",
    "    \"\"\"Display first 5 records and information about columns and data-types.\"\"\"\n",
    "    print(\"Initial data overview:\")\n",
    "    print(dataframe.head(5))\n",
    "    print(dataframe.info())\n",
    "    print(dataframe.describe())"
   ]
  },
  {
   "cell_type": "code",
   "execution_count": 5,
   "id": "d6262eb4",
   "metadata": {},
   "outputs": [
    {
     "name": "stdout",
     "output_type": "stream",
     "text": [
      "Initial data overview:\n",
      "   customer_id      first_name  last_name  gender  \\\n",
      "0            1         Laraine  Medendorp       F   \n",
      "1            2             Eli    Bockman    Male   \n",
      "2            3           Arlin     Dearle    Male   \n",
      "3            4          Talbot        NaN    Male   \n",
      "4            5  Sheila-kathryn     Calton  Female   \n",
      "\n",
      "   past_3_years_bike_related_purchases                  DOB  \\\n",
      "0                                   93  1953-10-12 00:00:00   \n",
      "1                                   81  1980-12-16 00:00:00   \n",
      "2                                   61  1954-01-20 00:00:00   \n",
      "3                                   33  1961-10-03 00:00:00   \n",
      "4                                   56  1977-05-13 00:00:00   \n",
      "\n",
      "                job_title job_industry_category     wealth_segment  \\\n",
      "0     Executive Secretary                Health      Mass Customer   \n",
      "1  Administrative Officer    Financial Services      Mass Customer   \n",
      "2      Recruiting Manager              Property      Mass Customer   \n",
      "3                     NaN                    IT      Mass Customer   \n",
      "4           Senior Editor                   NaN  Affluent Customer   \n",
      "\n",
      "  deceased_indicator                                            default  \\\n",
      "0                  N                                                 \"'   \n",
      "1                  N                       <script>alert('hi')</script>   \n",
      "2                  N                                2018-02-01 00:00:00   \n",
      "3                  N  () { _; } >_[$($())] { touch /tmp/blns.shellsh...   \n",
      "4                  N                                                NIL   \n",
      "\n",
      "  owns_car  tenure  \n",
      "0      Yes    11.0  \n",
      "1      Yes    16.0  \n",
      "2      Yes    15.0  \n",
      "3       No     7.0  \n",
      "4      Yes     8.0  \n",
      "<class 'pandas.core.frame.DataFrame'>\n",
      "RangeIndex: 4000 entries, 0 to 3999\n",
      "Data columns (total 13 columns):\n",
      " #   Column                               Non-Null Count  Dtype  \n",
      "---  ------                               --------------  -----  \n",
      " 0   customer_id                          4000 non-null   int64  \n",
      " 1   first_name                           4000 non-null   object \n",
      " 2   last_name                            3875 non-null   object \n",
      " 3   gender                               4000 non-null   object \n",
      " 4   past_3_years_bike_related_purchases  4000 non-null   int64  \n",
      " 5   DOB                                  3913 non-null   object \n",
      " 6   job_title                            3494 non-null   object \n",
      " 7   job_industry_category                3344 non-null   object \n",
      " 8   wealth_segment                       4000 non-null   object \n",
      " 9   deceased_indicator                   4000 non-null   object \n",
      " 10  default                              3698 non-null   object \n",
      " 11  owns_car                             4000 non-null   object \n",
      " 12  tenure                               3913 non-null   float64\n",
      "dtypes: float64(1), int64(2), object(10)\n",
      "memory usage: 406.4+ KB\n",
      "None\n",
      "       customer_id  past_3_years_bike_related_purchases       tenure\n",
      "count  4000.000000                          4000.000000  3913.000000\n",
      "mean   2000.500000                            48.890000    10.657041\n",
      "std    1154.844867                            28.715005     5.660146\n",
      "min       1.000000                             0.000000     1.000000\n",
      "25%    1000.750000                            24.000000     6.000000\n",
      "50%    2000.500000                            48.000000    11.000000\n",
      "75%    3000.250000                            73.000000    15.000000\n",
      "max    4000.000000                            99.000000    22.000000\n"
     ]
    }
   ],
   "source": [
    "display_basic_info(customer_data)"
   ]
  },
  {
   "cell_type": "markdown",
   "id": "c0ed3be0",
   "metadata": {},
   "source": [
    "# 4.0 Data Cleaning\n",
    "\n",
    "■ Drops the irrelevant 'default' column\n",
    "\n",
    "■ Fills missing values in 'last_name' with 'None'\n",
    "\n",
    "■ Removes records with missing Date of Birth (DOB)\n",
    "\n",
    "■ Calculates 'Age' based on DOB\n",
    "\n",
    "■ Fills missing job-related information with 'Missing'\n",
    "\n",
    "■ Handles inconsistencies in the 'gender' column (e.g., 'M' to 'Male', 'F' to 'Female')"
   ]
  },
  {
   "cell_type": "code",
   "execution_count": 6,
   "id": "3d8fbd2d",
   "metadata": {},
   "outputs": [],
   "source": [
    "# Drop Irrelevant Column\n",
    "def drop_irrelevant_column(dataframe, column_name):\n",
    "    \"\"\"Drop irrelevant column from the dataset.\"\"\"\n",
    "    if column_name in dataframe.columns:\n",
    "        dataframe.drop(columns=[column_name], inplace=True)\n",
    "        print(f\"Column '{column_name}' dropped successfully.\")\n",
    "    else:\n",
    "        print(f\"Column '{column_name}' not found in the DataFrame.\")"
   ]
  },
  {
   "cell_type": "code",
   "execution_count": 7,
   "id": "69a73329",
   "metadata": {},
   "outputs": [
    {
     "name": "stdout",
     "output_type": "stream",
     "text": [
      "Column 'default' dropped successfully.\n"
     ]
    }
   ],
   "source": [
    "drop_irrelevant_column(customer_data, 'default')"
   ]
  },
  {
   "cell_type": "code",
   "execution_count": 8,
   "id": "163c7be3",
   "metadata": {},
   "outputs": [],
   "source": [
    "#Missing Values Check\n",
    "def missing_values_check(dataframe):\n",
    "    \"\"\"Check for missing values in the dataset.\"\"\"\n",
    "    print(\"Total number of missing values:\")\n",
    "    print(dataframe.isnull().sum())\n",
    "    print(\"\\nPercentage of missing values:\")\n",
    "    print(dataframe.isnull().mean() * 100)"
   ]
  },
  {
   "cell_type": "code",
   "execution_count": 9,
   "id": "dfa5de99",
   "metadata": {},
   "outputs": [
    {
     "name": "stdout",
     "output_type": "stream",
     "text": [
      "Total number of missing values:\n",
      "customer_id                              0\n",
      "first_name                               0\n",
      "last_name                              125\n",
      "gender                                   0\n",
      "past_3_years_bike_related_purchases      0\n",
      "DOB                                     87\n",
      "job_title                              506\n",
      "job_industry_category                  656\n",
      "wealth_segment                           0\n",
      "deceased_indicator                       0\n",
      "owns_car                                 0\n",
      "tenure                                  87\n",
      "dtype: int64\n",
      "\n",
      "Percentage of missing values:\n",
      "customer_id                             0.000\n",
      "first_name                              0.000\n",
      "last_name                               3.125\n",
      "gender                                  0.000\n",
      "past_3_years_bike_related_purchases     0.000\n",
      "DOB                                     2.175\n",
      "job_title                              12.650\n",
      "job_industry_category                  16.400\n",
      "wealth_segment                          0.000\n",
      "deceased_indicator                      0.000\n",
      "owns_car                                0.000\n",
      "tenure                                  2.175\n",
      "dtype: float64\n"
     ]
    }
   ],
   "source": [
    "# Missing values check\n",
    "missing_values_check(customer_data)"
   ]
  },
  {
   "cell_type": "code",
   "execution_count": 10,
   "id": "8cb50473",
   "metadata": {},
   "outputs": [],
   "source": [
    "# Fill Missing Last Name\n",
    "def fill_missing_last_name(dataframe):\n",
    "    \"\"\"Fill missing last names with 'None'.\"\"\"\n",
    "    dataframe['last_name'].fillna('None', inplace=True)"
   ]
  },
  {
   "cell_type": "code",
   "execution_count": 11,
   "id": "d3e5299f",
   "metadata": {},
   "outputs": [],
   "source": [
    "fill_missing_last_name(customer_data)"
   ]
  },
  {
   "cell_type": "code",
   "execution_count": 12,
   "id": "5e6d968b",
   "metadata": {},
   "outputs": [],
   "source": [
    "# Remove Records with Missing Date of Birth\n",
    "def remove_records_with_missing_dob(dataframe):\n",
    "    \"\"\"Remove records with missing Date of Birth.\"\"\"\n",
    "    dataframe.dropna(subset=['DOB'], inplace=True)"
   ]
  },
  {
   "cell_type": "code",
   "execution_count": 13,
   "id": "cedb2b27",
   "metadata": {},
   "outputs": [],
   "source": [
    "remove_records_with_missing_dob(customer_data)"
   ]
  },
  {
   "cell_type": "code",
   "execution_count": 14,
   "id": "61c69047",
   "metadata": {},
   "outputs": [],
   "source": [
    "#  Calculate Age\n",
    "def calculate_age(dataframe):\n",
    "    \"\"\"Create 'Age' column based on the Date of Birth.\"\"\"\n",
    "    today = pd.to_datetime(date.today())\n",
    "    dataframe['DOB'] = pd.to_datetime(dataframe['DOB'], errors='coerce')\n",
    "    age_in_days = (today - dataframe['DOB']).dt.days\n",
    "    age_in_years = np.floor_divide(age_in_days, 365)\n",
    "    dataframe['Age'] = age_in_years"
   ]
  },
  {
   "cell_type": "code",
   "execution_count": 15,
   "id": "0ec9355c",
   "metadata": {},
   "outputs": [],
   "source": [
    "calculate_age(customer_data)"
   ]
  },
  {
   "cell_type": "code",
   "execution_count": 16,
   "id": "94f103fe",
   "metadata": {},
   "outputs": [],
   "source": [
    "# Fill Missing Job Information\n",
    "def fill_missing_job_info(dataframe, column_name, fill_value='Missing'):\n",
    "    \"\"\"Fill missing job information with the specified fill value.\"\"\"\n",
    "    dataframe[column_name].fillna(fill_value, inplace=True)"
   ]
  },
  {
   "cell_type": "code",
   "execution_count": 17,
   "id": "03e76ff4",
   "metadata": {},
   "outputs": [],
   "source": [
    "fill_missing_job_info(customer_data, 'job_title')"
   ]
  },
  {
   "cell_type": "code",
   "execution_count": 18,
   "id": "ea8cb7a8",
   "metadata": {},
   "outputs": [],
   "source": [
    "fill_missing_job_info(customer_data, 'job_industry_category')"
   ]
  },
  {
   "cell_type": "code",
   "execution_count": 19,
   "id": "5a001deb",
   "metadata": {},
   "outputs": [],
   "source": [
    "# Handle Gender Inconsistencies\n",
    "def handle_gender_inconsistencies(dataframe):\n",
    "    \"\"\"Handle inconsistencies in the 'gender' column.\"\"\"\n",
    "    gender_mapping = {'M': 'Male', 'Male': 'Male', 'F': 'Female', 'Female': 'Female', 'Femal': 'Female'}\n",
    "    dataframe['gender'] = dataframe['gender'].map(gender_mapping)"
   ]
  },
  {
   "cell_type": "code",
   "execution_count": 20,
   "id": "04ca5429",
   "metadata": {},
   "outputs": [],
   "source": [
    "handle_gender_inconsistencies(customer_data)"
   ]
  },
  {
   "cell_type": "markdown",
   "id": "8122edd7",
   "metadata": {},
   "source": [
    "# 5.0 Duplicate Checks:\n",
    "\n",
    "■Removes duplicate records based on the 'customer_id' column\n",
    "\n",
    "■ Checks for inconsistencies in other categorical columns ('wealth_segment', 'deceased_indicator', 'owns_car')"
   ]
  },
  {
   "cell_type": "code",
   "execution_count": 21,
   "id": "29752ede",
   "metadata": {},
   "outputs": [],
   "source": [
    "def drop_duplicates(dataframe, primary_key_column):\n",
    "    \"\"\"Remove duplicate records from the dataset.\"\"\"\n",
    "    dataframe_dedupped = dataframe.drop_duplicates(subset=dataframe.columns.difference([primary_key_column]))\n",
    "    return dataframe_dedupped"
   ]
  },
  {
   "cell_type": "code",
   "execution_count": 22,
   "id": "8924b18e",
   "metadata": {},
   "outputs": [
    {
     "name": "stdout",
     "output_type": "stream",
     "text": [
      "Number of records after removing duplicates: 3913\n"
     ]
    }
   ],
   "source": [
    "# Duplicate checks\n",
    "customer_data_deduped = drop_duplicates(customer_data, 'customer_id')\n",
    "print(\"Number of records after removing duplicates: {}\".format(customer_data_deduped.shape[0]))"
   ]
  },
  {
   "cell_type": "code",
   "execution_count": 23,
   "id": "c9f0331a",
   "metadata": {},
   "outputs": [
    {
     "name": "stdout",
     "output_type": "stream",
     "text": [
      "wealth_segment\n",
      "Mass Customer        1954\n",
      "High Net Worth        996\n",
      "Affluent Customer     963\n",
      "Name: count, dtype: int64\n"
     ]
    }
   ],
   "source": [
    "# Check for inconsistencies in other categorical columns\n",
    "print(customer_data['wealth_segment'].value_counts())"
   ]
  },
  {
   "cell_type": "code",
   "execution_count": 24,
   "id": "fb94ef98",
   "metadata": {},
   "outputs": [
    {
     "name": "stdout",
     "output_type": "stream",
     "text": [
      "deceased_indicator\n",
      "N    3911\n",
      "Y       2\n",
      "Name: count, dtype: int64\n"
     ]
    }
   ],
   "source": [
    "print(customer_data['deceased_indicator'].value_counts())"
   ]
  },
  {
   "cell_type": "code",
   "execution_count": 25,
   "id": "fa37a7d5",
   "metadata": {},
   "outputs": [
    {
     "name": "stdout",
     "output_type": "stream",
     "text": [
      "owns_car\n",
      "Yes    1974\n",
      "No     1939\n",
      "Name: count, dtype: int64\n"
     ]
    }
   ],
   "source": [
    "print(customer_data['owns_car'].value_counts())"
   ]
  },
  {
   "cell_type": "markdown",
   "id": "486e2792",
   "metadata": {},
   "source": [
    "# 6.0 Export Cleaned Data:\n",
    "\n",
    "Exports the cleaned dataset to a CSV file named 'Cleaned_Customer_Demographic_Dataset.csv'"
   ]
  },
  {
   "cell_type": "code",
   "execution_count": 26,
   "id": "05057d18",
   "metadata": {},
   "outputs": [],
   "source": [
    "def export_cleaned_data_to_csv(dataframe, file_name):\n",
    "    \"\"\"Export the cleaned dataset to a CSV file.\"\"\"\n",
    "    dataframe.to_csv(file_name, index=False)"
   ]
  },
  {
   "cell_type": "code",
   "execution_count": 27,
   "id": "320a9217",
   "metadata": {},
   "outputs": [],
   "source": [
    "# Export cleaned data to CSV\n",
    "export_cleaned_data_to_csv(customer_data_deduped, 'Cleaned_Customer_Demographic_Dataset.csv')"
   ]
  }
 ],
 "metadata": {
  "kernelspec": {
   "display_name": "Python 3 (ipykernel)",
   "language": "python",
   "name": "python3"
  },
  "language_info": {
   "codemirror_mode": {
    "name": "ipython",
    "version": 3
   },
   "file_extension": ".py",
   "mimetype": "text/x-python",
   "name": "python",
   "nbconvert_exporter": "python",
   "pygments_lexer": "ipython3",
   "version": "3.11.5"
  }
 },
 "nbformat": 4,
 "nbformat_minor": 5
}
