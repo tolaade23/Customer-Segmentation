{
 "cells": [
  {
   "cell_type": "markdown",
   "id": "d95a245e",
   "metadata": {},
   "source": [
    "#  Customer Address"
   ]
  },
  {
   "cell_type": "markdown",
   "id": "59365c73",
   "metadata": {},
   "source": [
    "# 1.0 Library"
   ]
  },
  {
   "cell_type": "code",
   "execution_count": 1,
   "id": "e4013142",
   "metadata": {},
   "outputs": [],
   "source": [
    "import pandas as pd"
   ]
  },
  {
   "cell_type": "markdown",
   "id": "41e80c52",
   "metadata": {},
   "source": [
    "# 2.0: Load Data\n",
    "The data is loaded from the Excel file 'Raw_data.xlsx' with the sheet name 'CustomerAddress'."
   ]
  },
  {
   "cell_type": "code",
   "execution_count": 2,
   "id": "1f1bf442",
   "metadata": {},
   "outputs": [],
   "source": [
    "def main():\n",
    "    file_path = 'Raw_data.xlsx'\n",
    "    sheet_name = 'CustomerAddress'\n",
    "    cust_address = load_data(file_path, sheet_name)\n",
    "    return cust_address"
   ]
  },
  {
   "cell_type": "code",
   "execution_count": 3,
   "id": "9ea42071",
   "metadata": {},
   "outputs": [],
   "source": [
    "def load_data(file_path, sheet_name):\n",
    "    return pd.read_excel(file_path, sheet_name)"
   ]
  },
  {
   "cell_type": "markdown",
   "id": "26940ee7",
   "metadata": {},
   "source": [
    "# 3.0 Initial Data Information\n",
    "Displays basic information about the dataset, including:\n",
    "■ Number of rows and columns\n",
    "■ Data types of each column\n",
    "■ Memory usage"
   ]
  },
  {
   "cell_type": "code",
   "execution_count": 4,
   "id": "ead5ee03",
   "metadata": {},
   "outputs": [
    {
     "name": "stdout",
     "output_type": "stream",
     "text": [
      "\n",
      "Initial Information of Customer Address Data:\n",
      "\n",
      "\n",
      "<class 'pandas.core.frame.DataFrame'>\n",
      "RangeIndex: 3999 entries, 0 to 3998\n",
      "Data columns (total 6 columns):\n",
      " #   Column              Non-Null Count  Dtype \n",
      "---  ------              --------------  ----- \n",
      " 0   customer_id         3999 non-null   int64 \n",
      " 1   address             3999 non-null   object\n",
      " 2   postcode            3999 non-null   int64 \n",
      " 3   state               3999 non-null   object\n",
      " 4   country             3999 non-null   object\n",
      " 5   property_valuation  3999 non-null   int64 \n",
      "dtypes: int64(3), object(3)\n",
      "memory usage: 187.6+ KB\n"
     ]
    }
   ],
   "source": [
    "cust_address = main()\n",
    "print(\"\\nInitial Information of Customer Address Data:\")\n",
    "print(\"\\n\")\n",
    "cust_address_info = cust_address.info()"
   ]
  },
  {
   "cell_type": "markdown",
   "id": "7bf11aee",
   "metadata": {},
   "source": [
    "# 4.0 Clean State Column\n",
    "Replaces full state names with abbreviations for consistency (\"New South Wales\" to \"NSW\", \"Victoria\" to \"VIC\")."
   ]
  },
  {
   "cell_type": "code",
   "execution_count": 5,
   "id": "ef1479ab",
   "metadata": {},
   "outputs": [],
   "source": [
    "def replace_state_names(state_name):\n",
    "    if state_name == 'New South Wales':\n",
    "        return 'NSW'\n",
    "    elif state_name == 'Victoria':\n",
    "        return 'VIC'\n",
    "    else:\n",
    "        return state_name"
   ]
  },
  {
   "cell_type": "code",
   "execution_count": 6,
   "id": "73514599",
   "metadata": {},
   "outputs": [],
   "source": [
    "def clean_state_column(df):\n",
    "    df['state'] = df['state'].apply(replace_state_names)\n",
    "    return df"
   ]
  },
  {
   "cell_type": "code",
   "execution_count": 7,
   "id": "997d4022",
   "metadata": {},
   "outputs": [],
   "source": [
    "cust_address = clean_state_column(cust_address)"
   ]
  },
  {
   "cell_type": "markdown",
   "id": "92c5338e",
   "metadata": {},
   "source": [
    "# 5.0 Missing Values Check\n",
    "Check for missing values in the dataset."
   ]
  },
  {
   "cell_type": "code",
   "execution_count": 8,
   "id": "dd6b4a66",
   "metadata": {},
   "outputs": [],
   "source": [
    "def check_missing_values(df):\n",
    "    return df.isnull().sum()"
   ]
  },
  {
   "cell_type": "code",
   "execution_count": 9,
   "id": "433b117e",
   "metadata": {},
   "outputs": [
    {
     "name": "stdout",
     "output_type": "stream",
     "text": [
      "Missing Values Check:\n",
      "customer_id           0\n",
      "address               0\n",
      "postcode              0\n",
      "state                 0\n",
      "country               0\n",
      "property_valuation    0\n",
      "dtype: int64\n"
     ]
    }
   ],
   "source": [
    "missing_values_result = check_missing_values(cust_address)\n",
    "print(\"Missing Values Check:\")\n",
    "print(missing_values_result)"
   ]
  },
  {
   "cell_type": "markdown",
   "id": "24dce0a1",
   "metadata": {},
   "source": [
    "# 6.0 Consistency Check\n",
    "Includes an implementation of a placeholder for consistency checks."
   ]
  },
  {
   "cell_type": "code",
   "execution_count": 10,
   "id": "e736a55e",
   "metadata": {},
   "outputs": [],
   "source": [
    "def consistency_check(df):\n",
    "    print(\"Consistency check result: Placeholder for implementation.\")"
   ]
  },
  {
   "cell_type": "code",
   "execution_count": 11,
   "id": "9324e9f4",
   "metadata": {},
   "outputs": [
    {
     "name": "stdout",
     "output_type": "stream",
     "text": [
      "Consistency Check:\n",
      "Consistency check result: Placeholder for implementation.\n"
     ]
    }
   ],
   "source": [
    "print(\"Consistency Check:\")\n",
    "consistency_check(cust_address)"
   ]
  },
  {
   "cell_type": "markdown",
   "id": "d3912284",
   "metadata": {},
   "source": [
    "# 7.0 Duplication Check\n",
    "Check for duplicated rows based on the 'customer_id' column."
   ]
  },
  {
   "cell_type": "code",
   "execution_count": 12,
   "id": "cf0a003e",
   "metadata": {},
   "outputs": [],
   "source": [
    "def duplication_check(df, primary_key='customer_id'):\n",
    "    duplicated_rows = df[df.duplicated(subset=primary_key, keep=False)]\n",
    "    return duplicated_rows"
   ]
  },
  {
   "cell_type": "code",
   "execution_count": 13,
   "id": "b76814af",
   "metadata": {},
   "outputs": [
    {
     "name": "stdout",
     "output_type": "stream",
     "text": [
      "Duplication Check:\n",
      "Empty DataFrame\n",
      "Columns: [customer_id, address, postcode, state, country, property_valuation]\n",
      "Index: []\n"
     ]
    }
   ],
   "source": [
    "duplicated_rows_result = duplication_check(cust_address)\n",
    "print(\"Duplication Check:\")\n",
    "print(duplicated_rows_result)"
   ]
  },
  {
   "cell_type": "markdown",
   "id": "5dacdbfa",
   "metadata": {},
   "source": [
    "# 8.0 Export Cleaned Data\n",
    "Export the cleaned dataset to 'Cleaned_Customer_Address_Dataset.csv'."
   ]
  },
  {
   "cell_type": "code",
   "execution_count": 14,
   "id": "2d1f9fbe",
   "metadata": {},
   "outputs": [],
   "source": [
    "def export_data(df, filename='output.csv'):\n",
    "    df.to_csv(filename, index=False)\n",
    "    print(\"     \")\n",
    "    print(f\"Data exported to {filename}\")"
   ]
  },
  {
   "cell_type": "code",
   "execution_count": 15,
   "id": "01c4a420",
   "metadata": {},
   "outputs": [
    {
     "name": "stdout",
     "output_type": "stream",
     "text": [
      "     \n",
      "Data exported to Cleaned_Customer_Address_Dataset.csv\n"
     ]
    }
   ],
   "source": [
    "export_data(cust_address, filename='Cleaned_Customer_Address_Dataset.csv')"
   ]
  },
  {
   "cell_type": "code",
   "execution_count": null,
   "id": "39ef9fa5",
   "metadata": {},
   "outputs": [],
   "source": []
  }
 ],
 "metadata": {
  "kernelspec": {
   "display_name": "Python 3 (ipykernel)",
   "language": "python",
   "name": "python3"
  },
  "language_info": {
   "codemirror_mode": {
    "name": "ipython",
    "version": 3
   },
   "file_extension": ".py",
   "mimetype": "text/x-python",
   "name": "python",
   "nbconvert_exporter": "python",
   "pygments_lexer": "ipython3",
   "version": "3.11.5"
  }
 },
 "nbformat": 4,
 "nbformat_minor": 5
}
