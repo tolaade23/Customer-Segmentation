{
 "cells": [
  {
   "cell_type": "markdown",
   "id": "62326984",
   "metadata": {},
   "source": [
    "# New Customer List Data Cleaning and Analysis"
   ]
  },
  {
   "cell_type": "markdown",
   "id": "cf9cd3ef",
   "metadata": {},
   "source": [
    "# 1.0 Libraries\n",
    "\n",
    "■ Pandas for data manipulation\n",
    "\n",
    "■ NumPy for numerical operations\n",
    "\n",
    "■ datetime for date-related operations"
   ]
  },
  {
   "cell_type": "code",
   "execution_count": 1,
   "id": "9e94bd1a",
   "metadata": {},
   "outputs": [],
   "source": [
    "import math\n",
    "import pandas as pd\n",
    "import numpy as np\n",
    "from datetime import datetime, date"
   ]
  },
  {
   "cell_type": "markdown",
   "id": "8a20a726",
   "metadata": {},
   "source": [
    "# 2.0 Load Data\n",
    "Loads customer list data from the Excel file 'Raw_data.xlsx', sheet 'NewCustomerList'"
   ]
  },
  {
   "cell_type": "code",
   "execution_count": 2,
   "id": "40fea0eb",
   "metadata": {},
   "outputs": [],
   "source": [
    "def load_data(file_path, sheet_name):\n",
    "    \"\"\"Load data from an Excel file.\"\"\"\n",
    "    return pd.read_excel(file_path, sheet_name=sheet_name)"
   ]
  },
  {
   "cell_type": "code",
   "execution_count": 3,
   "id": "06f614c9",
   "metadata": {},
   "outputs": [],
   "source": [
    "file_path = 'Raw_data.xlsx'\n",
    "sheet_name = 'NewCustomerList'\n",
    "new_cust = load_data(file_path, sheet_name)"
   ]
  },
  {
   "cell_type": "markdown",
   "id": "7c8acf2f",
   "metadata": {},
   "source": [
    "# 3.0 Drop Irrelevant Columns"
   ]
  },
  {
   "cell_type": "code",
   "execution_count": 4,
   "id": "c957ec9c",
   "metadata": {},
   "outputs": [],
   "source": [
    "def drop_irrelevant_columns(dataframe, columns_to_drop):\n",
    "    \"\"\"Drop irrelevant columns from the dataset.\"\"\"\n",
    "    dataframe.drop(labels=columns_to_drop, axis=1, inplace=True)"
   ]
  },
  {
   "cell_type": "code",
   "execution_count": 5,
   "id": "794a2bef",
   "metadata": {},
   "outputs": [],
   "source": [
    "irrelevant_columns = ['Unnamed: 16', 'Unnamed: 17', 'Unnamed: 18', 'Unnamed: 19', 'Unnamed: 20']\n",
    "value_mapping_gender = {'M': 'Male', 'F': 'Female'}\n",
    "drop_irrelevant_columns(new_cust, irrelevant_columns)"
   ]
  },
  {
   "cell_type": "markdown",
   "id": "2fac44f8",
   "metadata": {},
   "source": [
    "# 4.0 Display Data Information\n",
    "\n",
    "Displays basic information about the dataset, including:\n",
    "\n",
    "■ Number of rows\n",
    "\n",
    "■ Column names and data types\n",
    "\n",
    "■ Number of missing values in each column\n",
    "\n",
    "■ Summary statistics for numerical columns"
   ]
  },
  {
   "cell_type": "code",
   "execution_count": 6,
   "id": "34302d5a",
   "metadata": {},
   "outputs": [],
   "source": [
    "def display_data_info(dataframe):\n",
    "    \"\"\"Basic information about the dataset.\"\"\"\n",
    "    print(\"Initial data overview:\")\n",
    "    print(dataframe.head(5))\n",
    "    print(dataframe.info())"
   ]
  },
  {
   "cell_type": "code",
   "execution_count": 7,
   "id": "92287a93",
   "metadata": {},
   "outputs": [
    {
     "name": "stdout",
     "output_type": "stream",
     "text": [
      "Initial data overview:\n",
      "  first_name  last_name  gender  past_3_years_bike_related_purchases  \\\n",
      "0    Chickie    Brister    Male                                   86   \n",
      "1      Morly     Genery    Male                                   69   \n",
      "2    Ardelis  Forrester  Female                                   10   \n",
      "3     Lucine      Stutt  Female                                   64   \n",
      "4    Melinda     Hadlee  Female                                   34   \n",
      "\n",
      "                   DOB                   job_title job_industry_category  \\\n",
      "0           1957-07-12             General Manager         Manufacturing   \n",
      "1           1970-03-22         Structural Engineer              Property   \n",
      "2  1974-08-28 00:00:00      Senior Cost Accountant    Financial Services   \n",
      "3           1979-01-28  Account Representative III         Manufacturing   \n",
      "4           1965-09-21           Financial Analyst    Financial Services   \n",
      "\n",
      "      wealth_segment deceased_indicator owns_car  tenure              address  \\\n",
      "0      Mass Customer                  N      Yes      14     45 Shopko Center   \n",
      "1      Mass Customer                  N       No      16    14 Mccormick Park   \n",
      "2  Affluent Customer                  N       No      10  5 Colorado Crossing   \n",
      "3  Affluent Customer                  N      Yes       5   207 Annamark Plaza   \n",
      "4  Affluent Customer                  N       No      19    115 Montana Place   \n",
      "\n",
      "   postcode state    country  property_valuation  Rank     Value  \n",
      "0      4500   QLD  Australia                   6     1  1.718750  \n",
      "1      2113   NSW  Australia                  11     1  1.718750  \n",
      "2      3505   VIC  Australia                   5     1  1.718750  \n",
      "3      4814   QLD  Australia                   1     4  1.703125  \n",
      "4      2093   NSW  Australia                   9     4  1.703125  \n",
      "<class 'pandas.core.frame.DataFrame'>\n",
      "RangeIndex: 1000 entries, 0 to 999\n",
      "Data columns (total 18 columns):\n",
      " #   Column                               Non-Null Count  Dtype  \n",
      "---  ------                               --------------  -----  \n",
      " 0   first_name                           1000 non-null   object \n",
      " 1   last_name                            971 non-null    object \n",
      " 2   gender                               1000 non-null   object \n",
      " 3   past_3_years_bike_related_purchases  1000 non-null   int64  \n",
      " 4   DOB                                  983 non-null    object \n",
      " 5   job_title                            894 non-null    object \n",
      " 6   job_industry_category                835 non-null    object \n",
      " 7   wealth_segment                       1000 non-null   object \n",
      " 8   deceased_indicator                   1000 non-null   object \n",
      " 9   owns_car                             1000 non-null   object \n",
      " 10  tenure                               1000 non-null   int64  \n",
      " 11  address                              1000 non-null   object \n",
      " 12  postcode                             1000 non-null   int64  \n",
      " 13  state                                1000 non-null   object \n",
      " 14  country                              1000 non-null   object \n",
      " 15  property_valuation                   1000 non-null   int64  \n",
      " 16  Rank                                 1000 non-null   int64  \n",
      " 17  Value                                1000 non-null   float64\n",
      "dtypes: float64(1), int64(5), object(12)\n",
      "memory usage: 140.8+ KB\n",
      "None\n"
     ]
    }
   ],
   "source": [
    "# Display basic information\n",
    "display_data_info(new_cust)"
   ]
  },
  {
   "cell_type": "markdown",
   "id": "6d387080",
   "metadata": {},
   "source": [
    "# 5.0 Check Missing Values\n",
    "checks for missing values in the dataset, providing both the total number and percentage of missing values."
   ]
  },
  {
   "cell_type": "code",
   "execution_count": 8,
   "id": "644a29c7",
   "metadata": {},
   "outputs": [],
   "source": [
    "def check_missing_values(dataframe):\n",
    "    \"\"\"Check for missing values in the dataset.\"\"\"\n",
    "    print(\"Total number of missing values:\")\n",
    "    print(dataframe.isnull().sum())\n",
    "    print(\"\\nPercentage of missing values:\")\n",
    "    print(dataframe.isnull().mean() * 100)"
   ]
  },
  {
   "cell_type": "code",
   "execution_count": 9,
   "id": "4b5c9595",
   "metadata": {
    "scrolled": true
   },
   "outputs": [
    {
     "name": "stdout",
     "output_type": "stream",
     "text": [
      "Total number of missing values:\n",
      "first_name                               0\n",
      "last_name                               29\n",
      "gender                                   0\n",
      "past_3_years_bike_related_purchases      0\n",
      "DOB                                     17\n",
      "job_title                              106\n",
      "job_industry_category                  165\n",
      "wealth_segment                           0\n",
      "deceased_indicator                       0\n",
      "owns_car                                 0\n",
      "tenure                                   0\n",
      "address                                  0\n",
      "postcode                                 0\n",
      "state                                    0\n",
      "country                                  0\n",
      "property_valuation                       0\n",
      "Rank                                     0\n",
      "Value                                    0\n",
      "dtype: int64\n",
      "\n",
      "Percentage of missing values:\n",
      "first_name                              0.0\n",
      "last_name                               2.9\n",
      "gender                                  0.0\n",
      "past_3_years_bike_related_purchases     0.0\n",
      "DOB                                     1.7\n",
      "job_title                              10.6\n",
      "job_industry_category                  16.5\n",
      "wealth_segment                          0.0\n",
      "deceased_indicator                      0.0\n",
      "owns_car                                0.0\n",
      "tenure                                  0.0\n",
      "address                                 0.0\n",
      "postcode                                0.0\n",
      "state                                   0.0\n",
      "country                                 0.0\n",
      "property_valuation                      0.0\n",
      "Rank                                    0.0\n",
      "Value                                   0.0\n",
      "dtype: float64\n"
     ]
    }
   ],
   "source": [
    "# Missing values check\n",
    "check_missing_values(new_cust)"
   ]
  },
  {
   "cell_type": "markdown",
   "id": "b2de2cc6",
   "metadata": {},
   "source": [
    "# 6.0 Fill Missing Last Name\n",
    "\n",
    "Fills missing last names with 'None'"
   ]
  },
  {
   "cell_type": "code",
   "execution_count": 10,
   "id": "e59b46ea",
   "metadata": {},
   "outputs": [],
   "source": [
    "def fill_missing_last_name(dataframe):\n",
    "    \"\"\"Fill missing last names with 'None'.\"\"\"\n",
    "    dataframe['last_name'].fillna('None', inplace=True)"
   ]
  },
  {
   "cell_type": "code",
   "execution_count": 11,
   "id": "025129e3",
   "metadata": {},
   "outputs": [],
   "source": [
    "fill_missing_last_name(new_cust)"
   ]
  },
  {
   "cell_type": "markdown",
   "id": "47b6c826",
   "metadata": {},
   "source": [
    "# 7.0 Remove Records with Missing Date of Birth"
   ]
  },
  {
   "cell_type": "code",
   "execution_count": 12,
   "id": "66eb72ef",
   "metadata": {},
   "outputs": [],
   "source": [
    "def remove_records_with_missing_dob(dataframe):\n",
    "    \"\"\"Remove records with missing Date of Birth.\"\"\"\n",
    "    dataframe.dropna(subset=['DOB'], inplace=True)"
   ]
  },
  {
   "cell_type": "code",
   "execution_count": 13,
   "id": "22b741e8",
   "metadata": {},
   "outputs": [],
   "source": [
    "remove_records_with_missing_dob(new_cust)"
   ]
  },
  {
   "cell_type": "markdown",
   "id": "6db0fe91",
   "metadata": {},
   "source": [
    "# 8.0 Calculate Age\n",
    "\n",
    "Creates an 'Age' column based on the Date of Birth."
   ]
  },
  {
   "cell_type": "code",
   "execution_count": 14,
   "id": "37f38132",
   "metadata": {},
   "outputs": [],
   "source": [
    "def calculate_age(dataframe):\n",
    "    \"\"\"Create 'Age' column based on the Date of Birth.\"\"\"\n",
    "    today = pd.to_datetime(date.today())\n",
    "    dataframe['DOB'] = pd.to_datetime(dataframe['DOB'], errors='coerce')\n",
    "    age_in_days = (today - dataframe['DOB']).dt.days\n",
    "    age_in_years = np.floor_divide(age_in_days, 365)\n",
    "    dataframe['Age'] = age_in_years"
   ]
  },
  {
   "cell_type": "code",
   "execution_count": 15,
   "id": "c7cc453a",
   "metadata": {},
   "outputs": [],
   "source": [
    "calculate_age(new_cust)"
   ]
  },
  {
   "cell_type": "markdown",
   "id": "b0d3bfca",
   "metadata": {},
   "source": [
    "# 9.0 Handle Inconsistencies\n",
    "\n",
    "Handles inconsistencies in the 'gender' column using value mapping."
   ]
  },
  {
   "cell_type": "code",
   "execution_count": 16,
   "id": "f0cdfd44",
   "metadata": {},
   "outputs": [],
   "source": [
    "def handle_inconsistencies(dataframe, column_name, value_mapping):\n",
    "    \"\"\"Handle inconsistencies in a categorical column using value mapping.\"\"\"\n",
    "    dataframe[column_name] = dataframe[column_name].map(value_mapping)"
   ]
  },
  {
   "cell_type": "code",
   "execution_count": 17,
   "id": "530b2638",
   "metadata": {},
   "outputs": [],
   "source": [
    "#inconsistencies\n",
    "handle_inconsistencies(new_cust, 'gender', value_mapping_gender)"
   ]
  },
  {
   "cell_type": "markdown",
   "id": "752d801d",
   "metadata": {},
   "source": [
    "# 10.0 Create Customer ID\n",
    "\n",
    "Creates a unique customer ID based on 'first_name' and 'last_name'."
   ]
  },
  {
   "cell_type": "code",
   "execution_count": 18,
   "id": "12e9b99d",
   "metadata": {},
   "outputs": [],
   "source": [
    "def create_customer_id(row):\n",
    "    \"\"\"Create a unique customer ID based on 'first_name' and 'last_name'.\"\"\"\n",
    "    return f\"{row['first_name']}_{row['last_name']}\""
   ]
  },
  {
   "cell_type": "code",
   "execution_count": 19,
   "id": "4a25d9e2",
   "metadata": {},
   "outputs": [],
   "source": [
    "#'customer_id' column creation\n",
    "new_cust['customer_id'] = new_cust.apply(create_customer_id, axis=1)"
   ]
  },
  {
   "cell_type": "code",
   "execution_count": 20,
   "id": "0f50adf9",
   "metadata": {},
   "outputs": [
    {
     "name": "stdout",
     "output_type": "stream",
     "text": [
      "Columns in DataFrame after adding 'customer_id': Index(['first_name', 'last_name', 'gender',\n",
      "       'past_3_years_bike_related_purchases', 'DOB', 'job_title',\n",
      "       'job_industry_category', 'wealth_segment', 'deceased_indicator',\n",
      "       'owns_car', 'tenure', 'address', 'postcode', 'state', 'country',\n",
      "       'property_valuation', 'Rank', 'Value', 'Age', 'customer_id'],\n",
      "      dtype='object')\n"
     ]
    }
   ],
   "source": [
    "# columns to verify the addition of 'customer_id'\n",
    "print(\"Columns in DataFrame after adding 'customer_id':\", new_cust.columns)"
   ]
  },
  {
   "cell_type": "markdown",
   "id": "d04caa1f",
   "metadata": {},
   "source": [
    "# 11.0 Create Age Group\n",
    "\n",
    "Creates an 'Age Group' column based on the 'Age' column."
   ]
  },
  {
   "cell_type": "code",
   "execution_count": 21,
   "id": "6cc10a2c",
   "metadata": {},
   "outputs": [],
   "source": [
    "new_cust['Age Group'] = new_cust['Age'].apply(lambda x : (math.floor(x/10)+1)*10)"
   ]
  },
  {
   "cell_type": "markdown",
   "id": "57159a7c",
   "metadata": {},
   "source": [
    "# 12.0 Drop Duplicates\n",
    "\n",
    "Removes duplicate records from the dataset based on the 'customer_id'."
   ]
  },
  {
   "cell_type": "code",
   "execution_count": 22,
   "id": "53807821",
   "metadata": {},
   "outputs": [],
   "source": [
    "def drop_duplicates(dataframe, primary_key_column):\n",
    "    \"\"\"Remove duplicate records from the dataset.\"\"\"\n",
    "    if primary_key_column in dataframe.columns:\n",
    "        dataframe_deduped = dataframe.drop_duplicates(subset=[primary_key_column])\n",
    "        return dataframe_deduped\n",
    "    else:\n",
    "        print(f\"Column '{primary_key_column}' not found in the DataFrame. Available columns: {dataframe.columns}\")\n",
    "        return dataframe"
   ]
  },
  {
   "cell_type": "code",
   "execution_count": 23,
   "id": "85e77a91",
   "metadata": {},
   "outputs": [],
   "source": [
    "# Duplicate checks\n",
    "primary_key_column = 'customer_id'\n",
    "new_cust_deduped = drop_duplicates(new_cust, primary_key_column)"
   ]
  },
  {
   "cell_type": "code",
   "execution_count": 24,
   "id": "0fac0966",
   "metadata": {},
   "outputs": [
    {
     "name": "stdout",
     "output_type": "stream",
     "text": [
      "Number of records after removing duplicates: 983\n"
     ]
    }
   ],
   "source": [
    "print(\"Number of records after removing duplicates: {}\".format(new_cust_deduped.shape[0]))"
   ]
  },
  {
   "cell_type": "markdown",
   "id": "4f214234",
   "metadata": {},
   "source": [
    "# 13.0 Export Cleaned Data to CSV\n",
    "\n",
    "Exports the cleaned dataset to a CSV file named 'Cleaned_New_Customer_List_Dataset.csv'."
   ]
  },
  {
   "cell_type": "code",
   "execution_count": 25,
   "id": "2dfb30fa",
   "metadata": {},
   "outputs": [],
   "source": [
    "def export_cleaned_data_to_csv(dataframe, file_name):\n",
    "    \"\"\"Export the cleaned dataset to a CSV file.\"\"\"\n",
    "    dataframe.to_csv(file_name, index=False)"
   ]
  },
  {
   "cell_type": "code",
   "execution_count": 26,
   "id": "b5d62cd7",
   "metadata": {},
   "outputs": [],
   "source": [
    "# Export cleaned data to CSV\n",
    "export_cleaned_data_to_csv(new_cust_deduped, 'Cleaned_New_Customer_List_Dataset.csv')"
   ]
  }
 ],
 "metadata": {
  "kernelspec": {
   "display_name": "Python 3 (ipykernel)",
   "language": "python",
   "name": "python3"
  },
  "language_info": {
   "codemirror_mode": {
    "name": "ipython",
    "version": 3
   },
   "file_extension": ".py",
   "mimetype": "text/x-python",
   "name": "python",
   "nbconvert_exporter": "python",
   "pygments_lexer": "ipython3",
   "version": "3.11.5"
  }
 },
 "nbformat": 4,
 "nbformat_minor": 5
}
